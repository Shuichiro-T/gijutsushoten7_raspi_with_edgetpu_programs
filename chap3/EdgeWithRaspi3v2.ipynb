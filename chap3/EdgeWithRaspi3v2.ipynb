{
  "nbformat": 4,
  "nbformat_minor": 0,
  "metadata": {
    "colab": {
      "name": "EdgeWithRaspi3.ipynb",
      "provenance": [],
      "collapsed_sections": [],
      "include_colab_link": true
    },
    "kernelspec": {
      "name": "python3",
      "display_name": "Python 3"
    }
  },
  "cells": [
    {
      "cell_type": "markdown",
      "metadata": {
        "id": "view-in-github",
        "colab_type": "text"
      },
      "source": [
        "<a href=\"https://colab.research.google.com/github/Shuichiro-T/gijutsushoten7_raspi_with_edgetpu_programs/blob/master/chap3/EdgeWithRaspi3v2.ipynb\" target=\"_parent\"><img src=\"https://colab.research.google.com/assets/colab-badge.svg\" alt=\"Open In Colab\"/></a>"
      ]
    },
    {
      "cell_type": "markdown",
      "metadata": {
        "id": "s27XZd7mu4jR"
      },
      "source": [
        "Tensorflowを1.14にダウングレードする。インストール後ランタイムの再起動を求められるので再起動する。"
      ]
    },
    {
      "cell_type": "code",
      "metadata": {
        "id": "ELoM_OVrus-s",
        "outputId": "b2cba6ba-9dcf-484c-ac58-12da384324db",
        "colab": {
          "base_uri": "https://localhost:8080/"
        }
      },
      "source": [
        "!pip install tensorflow==1.14"
      ],
      "execution_count": 1,
      "outputs": [
        {
          "output_type": "stream",
          "text": [
            "Requirement already satisfied: tensorflow==1.14 in /usr/local/lib/python3.6/dist-packages (1.14.0)\n",
            "Requirement already satisfied: keras-applications>=1.0.6 in /usr/local/lib/python3.6/dist-packages (from tensorflow==1.14) (1.0.8)\n",
            "Requirement already satisfied: google-pasta>=0.1.6 in /usr/local/lib/python3.6/dist-packages (from tensorflow==1.14) (0.2.0)\n",
            "Requirement already satisfied: keras-preprocessing>=1.0.5 in /usr/local/lib/python3.6/dist-packages (from tensorflow==1.14) (1.1.2)\n",
            "Requirement already satisfied: protobuf>=3.6.1 in /usr/local/lib/python3.6/dist-packages (from tensorflow==1.14) (3.12.4)\n",
            "Requirement already satisfied: termcolor>=1.1.0 in /usr/local/lib/python3.6/dist-packages (from tensorflow==1.14) (1.1.0)\n",
            "Requirement already satisfied: absl-py>=0.7.0 in /usr/local/lib/python3.6/dist-packages (from tensorflow==1.14) (0.10.0)\n",
            "Requirement already satisfied: astor>=0.6.0 in /usr/local/lib/python3.6/dist-packages (from tensorflow==1.14) (0.8.1)\n",
            "Requirement already satisfied: numpy<2.0,>=1.14.5 in /usr/local/lib/python3.6/dist-packages (from tensorflow==1.14) (1.19.4)\n",
            "Requirement already satisfied: wrapt>=1.11.1 in /usr/local/lib/python3.6/dist-packages (from tensorflow==1.14) (1.12.1)\n",
            "Requirement already satisfied: six>=1.10.0 in /usr/local/lib/python3.6/dist-packages (from tensorflow==1.14) (1.15.0)\n",
            "Requirement already satisfied: wheel>=0.26 in /usr/local/lib/python3.6/dist-packages (from tensorflow==1.14) (0.36.2)\n",
            "Requirement already satisfied: grpcio>=1.8.6 in /usr/local/lib/python3.6/dist-packages (from tensorflow==1.14) (1.32.0)\n",
            "Requirement already satisfied: gast>=0.2.0 in /usr/local/lib/python3.6/dist-packages (from tensorflow==1.14) (0.3.3)\n",
            "Requirement already satisfied: tensorboard<1.15.0,>=1.14.0 in /usr/local/lib/python3.6/dist-packages (from tensorflow==1.14) (1.14.0)\n",
            "Requirement already satisfied: tensorflow-estimator<1.15.0rc0,>=1.14.0rc0 in /usr/local/lib/python3.6/dist-packages (from tensorflow==1.14) (1.14.0)\n",
            "Requirement already satisfied: h5py in /usr/local/lib/python3.6/dist-packages (from keras-applications>=1.0.6->tensorflow==1.14) (2.10.0)\n",
            "Requirement already satisfied: setuptools in /usr/local/lib/python3.6/dist-packages (from protobuf>=3.6.1->tensorflow==1.14) (51.1.1)\n",
            "Requirement already satisfied: werkzeug>=0.11.15 in /usr/local/lib/python3.6/dist-packages (from tensorboard<1.15.0,>=1.14.0->tensorflow==1.14) (1.0.1)\n",
            "Requirement already satisfied: markdown>=2.6.8 in /usr/local/lib/python3.6/dist-packages (from tensorboard<1.15.0,>=1.14.0->tensorflow==1.14) (3.3.3)\n",
            "Requirement already satisfied: importlib-metadata; python_version < \"3.8\" in /usr/local/lib/python3.6/dist-packages (from markdown>=2.6.8->tensorboard<1.15.0,>=1.14.0->tensorflow==1.14) (3.3.0)\n",
            "Requirement already satisfied: typing-extensions>=3.6.4; python_version < \"3.8\" in /usr/local/lib/python3.6/dist-packages (from importlib-metadata; python_version < \"3.8\"->markdown>=2.6.8->tensorboard<1.15.0,>=1.14.0->tensorflow==1.14) (3.7.4.3)\n",
            "Requirement already satisfied: zipp>=0.5 in /usr/local/lib/python3.6/dist-packages (from importlib-metadata; python_version < \"3.8\"->markdown>=2.6.8->tensorboard<1.15.0,>=1.14.0->tensorflow==1.14) (3.4.0)\n"
          ],
          "name": "stdout"
        }
      ]
    },
    {
      "cell_type": "markdown",
      "metadata": {
        "id": "w574kr3sDtes"
      },
      "source": [
        "ライブラリのインポートを行う。"
      ]
    },
    {
      "cell_type": "code",
      "metadata": {
        "id": "Lj9MPf9FIJ3Q",
        "colab": {
          "base_uri": "https://localhost:8080/"
        },
        "outputId": "6c170c4b-f44d-4621-c770-2b92cb5367ee"
      },
      "source": [
        "import tensorflow as tf\n",
        "mnist = tf.keras.datasets.mnist"
      ],
      "execution_count": 2,
      "outputs": [
        {
          "output_type": "stream",
          "text": [
            "/usr/local/lib/python3.6/dist-packages/tensorflow/python/framework/dtypes.py:516: FutureWarning: Passing (type, 1) or '1type' as a synonym of type is deprecated; in a future version of numpy, it will be understood as (type, (1,)) / '(1,)type'.\n",
            "  _np_qint8 = np.dtype([(\"qint8\", np.int8, 1)])\n",
            "/usr/local/lib/python3.6/dist-packages/tensorflow/python/framework/dtypes.py:517: FutureWarning: Passing (type, 1) or '1type' as a synonym of type is deprecated; in a future version of numpy, it will be understood as (type, (1,)) / '(1,)type'.\n",
            "  _np_quint8 = np.dtype([(\"quint8\", np.uint8, 1)])\n",
            "/usr/local/lib/python3.6/dist-packages/tensorflow/python/framework/dtypes.py:518: FutureWarning: Passing (type, 1) or '1type' as a synonym of type is deprecated; in a future version of numpy, it will be understood as (type, (1,)) / '(1,)type'.\n",
            "  _np_qint16 = np.dtype([(\"qint16\", np.int16, 1)])\n",
            "/usr/local/lib/python3.6/dist-packages/tensorflow/python/framework/dtypes.py:519: FutureWarning: Passing (type, 1) or '1type' as a synonym of type is deprecated; in a future version of numpy, it will be understood as (type, (1,)) / '(1,)type'.\n",
            "  _np_quint16 = np.dtype([(\"quint16\", np.uint16, 1)])\n",
            "/usr/local/lib/python3.6/dist-packages/tensorflow/python/framework/dtypes.py:520: FutureWarning: Passing (type, 1) or '1type' as a synonym of type is deprecated; in a future version of numpy, it will be understood as (type, (1,)) / '(1,)type'.\n",
            "  _np_qint32 = np.dtype([(\"qint32\", np.int32, 1)])\n",
            "/usr/local/lib/python3.6/dist-packages/tensorflow/python/framework/dtypes.py:525: FutureWarning: Passing (type, 1) or '1type' as a synonym of type is deprecated; in a future version of numpy, it will be understood as (type, (1,)) / '(1,)type'.\n",
            "  np_resource = np.dtype([(\"resource\", np.ubyte, 1)])\n",
            "/usr/local/lib/python3.6/dist-packages/tensorboard/compat/tensorflow_stub/dtypes.py:541: FutureWarning: Passing (type, 1) or '1type' as a synonym of type is deprecated; in a future version of numpy, it will be understood as (type, (1,)) / '(1,)type'.\n",
            "  _np_qint8 = np.dtype([(\"qint8\", np.int8, 1)])\n",
            "/usr/local/lib/python3.6/dist-packages/tensorboard/compat/tensorflow_stub/dtypes.py:542: FutureWarning: Passing (type, 1) or '1type' as a synonym of type is deprecated; in a future version of numpy, it will be understood as (type, (1,)) / '(1,)type'.\n",
            "  _np_quint8 = np.dtype([(\"quint8\", np.uint8, 1)])\n",
            "/usr/local/lib/python3.6/dist-packages/tensorboard/compat/tensorflow_stub/dtypes.py:543: FutureWarning: Passing (type, 1) or '1type' as a synonym of type is deprecated; in a future version of numpy, it will be understood as (type, (1,)) / '(1,)type'.\n",
            "  _np_qint16 = np.dtype([(\"qint16\", np.int16, 1)])\n",
            "/usr/local/lib/python3.6/dist-packages/tensorboard/compat/tensorflow_stub/dtypes.py:544: FutureWarning: Passing (type, 1) or '1type' as a synonym of type is deprecated; in a future version of numpy, it will be understood as (type, (1,)) / '(1,)type'.\n",
            "  _np_quint16 = np.dtype([(\"quint16\", np.uint16, 1)])\n",
            "/usr/local/lib/python3.6/dist-packages/tensorboard/compat/tensorflow_stub/dtypes.py:545: FutureWarning: Passing (type, 1) or '1type' as a synonym of type is deprecated; in a future version of numpy, it will be understood as (type, (1,)) / '(1,)type'.\n",
            "  _np_qint32 = np.dtype([(\"qint32\", np.int32, 1)])\n",
            "/usr/local/lib/python3.6/dist-packages/tensorboard/compat/tensorflow_stub/dtypes.py:550: FutureWarning: Passing (type, 1) or '1type' as a synonym of type is deprecated; in a future version of numpy, it will be understood as (type, (1,)) / '(1,)type'.\n",
            "  np_resource = np.dtype([(\"resource\", np.ubyte, 1)])\n"
          ],
          "name": "stderr"
        }
      ]
    },
    {
      "cell_type": "markdown",
      "metadata": {
        "id": "_hhCj8-oDzJH"
      },
      "source": [
        "MNISTデータのダウンロードを行い、画像データの正規化する（０～１の範囲にする）ために255で割る。"
      ]
    },
    {
      "cell_type": "code",
      "metadata": {
        "id": "Hust9zspILkU"
      },
      "source": [
        "(x_train, y_train),(x_test, y_test) = mnist.load_data()\n",
        "x_train, x_test = x_train / 255.0, x_test / 255.0"
      ],
      "execution_count": 3,
      "outputs": []
    },
    {
      "cell_type": "markdown",
      "metadata": {
        "id": "zw8fRt3OSHSQ"
      },
      "source": [
        "学習モデルの生成を行う。"
      ]
    },
    {
      "cell_type": "code",
      "metadata": {
        "id": "Hub4Fj0HIPqP",
        "colab": {
          "base_uri": "https://localhost:8080/"
        },
        "outputId": "6b488c53-ae82-4ee8-feca-20b933babe57"
      },
      "source": [
        "model = tf.keras.models.Sequential([\n",
        "  tf.keras.layers.Flatten(input_shape=(28, 28)),\n",
        "  tf.keras.layers.Dense(512, activation=tf.nn.relu),\n",
        "  tf.keras.layers.Dropout(0.2),\n",
        "  tf.keras.layers.Dense(10, activation=tf.nn.softmax)\n",
        "])\n",
        "\n",
        "model.compile(optimizer='adam',\n",
        "              loss='sparse_categorical_crossentropy',\n",
        "              metrics=['accuracy'])"
      ],
      "execution_count": 4,
      "outputs": [
        {
          "output_type": "stream",
          "text": [
            "WARNING:tensorflow:From /usr/local/lib/python3.6/dist-packages/tensorflow/python/ops/init_ops.py:1251: calling VarianceScaling.__init__ (from tensorflow.python.ops.init_ops) with dtype is deprecated and will be removed in a future version.\n",
            "Instructions for updating:\n",
            "Call initializer instance with the dtype argument instead of passing it to the constructor\n"
          ],
          "name": "stdout"
        }
      ]
    },
    {
      "cell_type": "markdown",
      "metadata": {
        "id": "2-_ETz_3T1IO"
      },
      "source": [
        "学習と評価を行う。"
      ]
    },
    {
      "cell_type": "code",
      "metadata": {
        "id": "NOcejaQDIaVq",
        "colab": {
          "base_uri": "https://localhost:8080/"
        },
        "outputId": "f6468855-7a61-4f93-f1d7-d79d4fa34304"
      },
      "source": [
        "model.fit(x_train, y_train, epochs=5)\n",
        "model.evaluate(x_test, y_test)"
      ],
      "execution_count": 5,
      "outputs": [
        {
          "output_type": "stream",
          "text": [
            "Epoch 1/5\n",
            "60000/60000 [==============================] - 10s 164us/sample - loss: 0.2228 - acc: 0.9346\n",
            "Epoch 2/5\n",
            "60000/60000 [==============================] - 9s 157us/sample - loss: 0.0954 - acc: 0.9705\n",
            "Epoch 3/5\n",
            "60000/60000 [==============================] - 9s 155us/sample - loss: 0.0691 - acc: 0.9779\n",
            "Epoch 4/5\n",
            "60000/60000 [==============================] - 9s 152us/sample - loss: 0.0538 - acc: 0.9830\n",
            "Epoch 5/5\n",
            "60000/60000 [==============================] - 10s 160us/sample - loss: 0.0421 - acc: 0.9861\n",
            "10000/10000 [==============================] - 1s 59us/sample - loss: 0.0689 - acc: 0.9795\n"
          ],
          "name": "stdout"
        },
        {
          "output_type": "execute_result",
          "data": {
            "text/plain": [
              "[0.06890781578962923, 0.9795]"
            ]
          },
          "metadata": {
            "tags": []
          },
          "execution_count": 5
        }
      ]
    },
    {
      "cell_type": "markdown",
      "metadata": {
        "id": "qaMwxcsHT4UH"
      },
      "source": [
        "モデルを保存するためにGoogle Driveのアクセス権を確認する。出力されたURLへアクセスし、認証を行った後に出力されるコードをコピーしダイアログへ入力する。"
      ]
    },
    {
      "cell_type": "code",
      "metadata": {
        "id": "PWa8f-n9__t2",
        "colab": {
          "base_uri": "https://localhost:8080/"
        },
        "outputId": "9d723ad6-ef77-452e-bfee-cfa29b5f116e"
      },
      "source": [
        "from google.colab import drive\n",
        "drive.mount('/content/drive')"
      ],
      "execution_count": 7,
      "outputs": [
        {
          "output_type": "stream",
          "text": [
            "Drive already mounted at /content/drive; to attempt to forcibly remount, call drive.mount(\"/content/drive\", force_remount=True).\n"
          ],
          "name": "stdout"
        }
      ]
    },
    {
      "cell_type": "markdown",
      "metadata": {
        "id": "EG7-iMvSUKIU"
      },
      "source": [
        "学習したモデルをGoogle Driveへ出力する。"
      ]
    },
    {
      "cell_type": "code",
      "metadata": {
        "id": "2IHiyB0FU7Ro"
      },
      "source": [
        "model.save(\n",
        "    '/content/drive/My Drive/Colab Notebooks/mymnist.h5')"
      ],
      "execution_count": 8,
      "outputs": []
    },
    {
      "cell_type": "markdown",
      "metadata": {
        "id": "nNjqRoc5UODj"
      },
      "source": [
        "出力したモデルを量子化しTensorFlow Liteのモデルへ変換する。"
      ]
    },
    {
      "cell_type": "code",
      "metadata": {
        "id": "hVzSpxvCFj9P",
        "colab": {
          "base_uri": "https://localhost:8080/"
        },
        "outputId": "b63d577e-1a92-47e6-fe4c-56279cc57588"
      },
      "source": [
        "converter = tf.lite.TFLiteConverter.from_keras_model_file(\n",
        "    '/content/drive/My Drive/Colab Notebooks/mymnist.h5')\n",
        "converter.inference_type = tf.lite.constants.QUANTIZED_UINT8\n",
        "converter.default_ranges_stats = (0, 255)\n",
        "input_arrays = converter.get_input_arrays()\n",
        "converter.quantized_input_stats = {input_arrays[0] : (0., 1.)} \n",
        "tflite_model = converter.convert()"
      ],
      "execution_count": 9,
      "outputs": [
        {
          "output_type": "stream",
          "text": [
            "WARNING:tensorflow:From /usr/local/lib/python3.6/dist-packages/tensorflow/python/ops/init_ops.py:97: calling GlorotUniform.__init__ (from tensorflow.python.ops.init_ops) with dtype is deprecated and will be removed in a future version.\n",
            "Instructions for updating:\n",
            "Call initializer instance with the dtype argument instead of passing it to the constructor\n",
            "WARNING:tensorflow:From /usr/local/lib/python3.6/dist-packages/tensorflow/python/ops/init_ops.py:97: calling Zeros.__init__ (from tensorflow.python.ops.init_ops) with dtype is deprecated and will be removed in a future version.\n",
            "Instructions for updating:\n",
            "Call initializer instance with the dtype argument instead of passing it to the constructor\n",
            "WARNING:tensorflow:From /usr/local/lib/python3.6/dist-packages/tensorflow/lite/python/util.py:238: convert_variables_to_constants (from tensorflow.python.framework.graph_util_impl) is deprecated and will be removed in a future version.\n",
            "Instructions for updating:\n",
            "Use `tf.compat.v1.graph_util.convert_variables_to_constants`\n",
            "WARNING:tensorflow:From /usr/local/lib/python3.6/dist-packages/tensorflow/python/framework/graph_util_impl.py:270: extract_sub_graph (from tensorflow.python.framework.graph_util_impl) is deprecated and will be removed in a future version.\n",
            "Instructions for updating:\n",
            "Use `tf.compat.v1.graph_util.extract_sub_graph`\n",
            "INFO:tensorflow:Froze 4 variables.\n",
            "INFO:tensorflow:Converted 4 variables to const ops.\n"
          ],
          "name": "stdout"
        }
      ]
    },
    {
      "cell_type": "markdown",
      "metadata": {
        "id": "O8P-aPY1UqL7"
      },
      "source": [
        "TensorFlow LiteのモデルをGoogle Driveへ保存する。"
      ]
    },
    {
      "cell_type": "code",
      "metadata": {
        "id": "1N-VexCAWJS0",
        "colab": {
          "base_uri": "https://localhost:8080/"
        },
        "outputId": "25850aaf-e590-440d-d86d-288c0555cfec"
      },
      "source": [
        "open('/content/drive/My Drive/Colab Notebooks/mymnist.tflite', \n",
        "     \"wb\").write(tflite_model)\n"
      ],
      "execution_count": 10,
      "outputs": [
        {
          "output_type": "execute_result",
          "data": {
            "text/plain": [
              "410072"
            ]
          },
          "metadata": {
            "tags": []
          },
          "execution_count": 10
        }
      ]
    },
    {
      "cell_type": "markdown",
      "metadata": {
        "id": "0aQjueJo4spF"
      },
      "source": [
        "Edge TPUコンパイラをインストールする。"
      ]
    },
    {
      "cell_type": "code",
      "metadata": {
        "id": "9pN_WjMp40Ce",
        "colab": {
          "base_uri": "https://localhost:8080/"
        },
        "outputId": "24268c3c-01d3-4257-e5ed-c22210e3078b"
      },
      "source": [
        "!curl https://packages.cloud.google.com/apt/doc/apt-key.gpg \\\n",
        " | sudo apt-key add -\n",
        "!echo \\\n",
        " \"deb https://packages.cloud.google.com/apt coral-edgetpu-stable main\" \\\n",
        " | sudo tee /etc/apt/sources.list.d/coral-edgetpu.list\n",
        "!sudo apt-get\n",
        "!sudo apt-get install edgetpu-compiler"
      ],
      "execution_count": 17,
      "outputs": [
        {
          "output_type": "stream",
          "text": [
            "  % Total    % Received % Xferd  Average Speed   Time    Time     Time  Current\n",
            "                                 Dload  Upload   Total   Spent    Left  Speed\n",
            "\r  0     0    0     0    0     0      0      0 --:--:-- --:--:-- --:--:--     0\r100  1974  100  1974    0     0  89727      0 --:--:-- --:--:-- --:--:-- 89727\n",
            "OK\n",
            "deb https://packages.cloud.google.com/apt coral-edgetpu-stable main\n",
            "apt 1.6.12ubuntu0.2 (amd64)\n",
            "Usage: apt-get [options] command\n",
            "       apt-get [options] install|remove pkg1 [pkg2 ...]\n",
            "       apt-get [options] source pkg1 [pkg2 ...]\n",
            "\n",
            "apt-get is a command line interface for retrieval of packages\n",
            "and information about them from authenticated sources and\n",
            "for installation, upgrade and removal of packages together\n",
            "with their dependencies.\n",
            "\n",
            "Most used commands:\n",
            "  update - Retrieve new lists of packages\n",
            "  upgrade - Perform an upgrade\n",
            "  install - Install new packages (pkg is libc6 not libc6.deb)\n",
            "  remove - Remove packages\n",
            "  purge - Remove packages and config files\n",
            "  autoremove - Remove automatically all unused packages\n",
            "  dist-upgrade - Distribution upgrade, see apt-get(8)\n",
            "  dselect-upgrade - Follow dselect selections\n",
            "  build-dep - Configure build-dependencies for source packages\n",
            "  clean - Erase downloaded archive files\n",
            "  autoclean - Erase old downloaded archive files\n",
            "  check - Verify that there are no broken dependencies\n",
            "  source - Download source archives\n",
            "  download - Download the binary package into the current directory\n",
            "  changelog - Download and display the changelog for the given package\n",
            "\n",
            "See apt-get(8) for more information about the available commands.\n",
            "Configuration options and syntax is detailed in apt.conf(5).\n",
            "Information about how to configure sources can be found in sources.list(5).\n",
            "Package and version choices can be expressed via apt_preferences(5).\n",
            "Security details are available in apt-secure(8).\n",
            "                                        This APT has Super Cow Powers.\n",
            "Reading package lists... Done\n",
            "Building dependency tree       \n",
            "Reading state information... Done\n",
            "edgetpu-compiler is already the newest version (15.0).\n",
            "The following packages were automatically installed and are no longer required:\n",
            "  linux-headers-4.15.0-129 linux-headers-4.15.0-129-generic\n",
            "Use 'sudo apt autoremove' to remove them.\n",
            "0 upgraded, 0 newly installed, 0 to remove and 6 not upgraded.\n"
          ],
          "name": "stdout"
        }
      ]
    },
    {
      "cell_type": "markdown",
      "metadata": {
        "id": "xSzDhH3c6FOO"
      },
      "source": [
        "Edge TPU用に変換をする。"
      ]
    },
    {
      "cell_type": "code",
      "metadata": {
        "id": "AI50YNcT42ra",
        "colab": {
          "base_uri": "https://localhost:8080/"
        },
        "outputId": "0c3c183f-cbaf-44c2-a2db-4d36a4c6f8e7"
      },
      "source": [
        "!edgetpu_compiler \\\n",
        " \"/content/drive/My Drive/Colab Notebooks/mymnist.tflite\" \\\n",
        " -o \"/content/drive/My Drive/Colab Notebooks/\" \\\n",
        " -m 10"
      ],
      "execution_count": 18,
      "outputs": [
        {
          "output_type": "stream",
          "text": [
            "Edge TPU Compiler version 15.0.340273435\n",
            "\n",
            "Model compiled successfully in 87 ms.\n",
            "\n",
            "Input model: /content/drive/My Drive/Colab Notebooks/mymnist.tflite\n",
            "Input size: 400.46KiB\n",
            "Output model: /content/drive/My Drive/Colab Notebooks/mymnist_edgetpu.tflite\n",
            "Output size: 452.53KiB\n",
            "On-chip memory used for caching model parameters: 427.75KiB\n",
            "On-chip memory remaining for caching model parameters: 7.44MiB\n",
            "Off-chip memory used for streaming uncached model parameters: 0.00B\n",
            "Number of Edge TPU subgraphs: 1\n",
            "Total number of operations: 3\n",
            "Operation log: /content/drive/My Drive/Colab Notebooks/mymnist_edgetpu.log\n",
            "See the operation log file for individual operation details.\n"
          ],
          "name": "stdout"
        }
      ]
    }
  ]
}