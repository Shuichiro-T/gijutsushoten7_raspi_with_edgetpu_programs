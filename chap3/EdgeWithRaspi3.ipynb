{
  "nbformat": 4,
  "nbformat_minor": 0,
  "metadata": {
    "colab": {
      "name": "EdgeWithRaspi3.ipynb",
      "provenance": [],
      "collapsed_sections": [],
      "include_colab_link": true
    },
    "kernelspec": {
      "name": "python3",
      "display_name": "Python 3"
    }
  },
  "cells": [
    {
      "cell_type": "markdown",
      "metadata": {
        "id": "view-in-github",
        "colab_type": "text"
      },
      "source": [
        "<a href=\"https://colab.research.google.com/github/Shuichiro-T/gijutsushoten7_raspi_with_edgetpu_programs/blob/master/chap3/EdgeWithRaspi3.ipynb\" target=\"_parent\"><img src=\"https://colab.research.google.com/assets/colab-badge.svg\" alt=\"Open In Colab\"/></a>"
      ]
    },
    {
      "cell_type": "markdown",
      "metadata": {
        "id": "w574kr3sDtes",
        "colab_type": "text"
      },
      "source": [
        "ライブラリのインポートを行う。"
      ]
    },
    {
      "cell_type": "code",
      "metadata": {
        "id": "Lj9MPf9FIJ3Q",
        "colab_type": "code",
        "colab": {}
      },
      "source": [
        "import tensorflow as tf\n",
        "mnist = tf.keras.datasets.mnist"
      ],
      "execution_count": 0,
      "outputs": []
    },
    {
      "cell_type": "markdown",
      "metadata": {
        "id": "_hhCj8-oDzJH",
        "colab_type": "text"
      },
      "source": [
        "MNISTデータのダウンロードを行い、画像データの正規化する（０～１の範囲にする）ために255で割る。"
      ]
    },
    {
      "cell_type": "code",
      "metadata": {
        "id": "Hust9zspILkU",
        "colab_type": "code",
        "colab": {}
      },
      "source": [
        "(x_train, y_train),(x_test, y_test) = mnist.load_data()\n",
        "x_train, x_test = x_train / 255.0, x_test / 255.0"
      ],
      "execution_count": 0,
      "outputs": []
    },
    {
      "cell_type": "markdown",
      "metadata": {
        "id": "zw8fRt3OSHSQ",
        "colab_type": "text"
      },
      "source": [
        "学習モデルの生成を行う。"
      ]
    },
    {
      "cell_type": "code",
      "metadata": {
        "id": "Hub4Fj0HIPqP",
        "colab_type": "code",
        "colab": {}
      },
      "source": [
        "model = tf.keras.models.Sequential([\n",
        "  tf.keras.layers.Flatten(input_shape=(28, 28)),\n",
        "  tf.keras.layers.Dense(512, activation=tf.nn.relu),\n",
        "  tf.keras.layers.Dropout(0.2),\n",
        "  tf.keras.layers.Dense(10, activation=tf.nn.softmax)\n",
        "])\n",
        "\n",
        "model.compile(optimizer='adam',\n",
        "              loss='sparse_categorical_crossentropy',\n",
        "              metrics=['accuracy'])"
      ],
      "execution_count": 0,
      "outputs": []
    },
    {
      "cell_type": "markdown",
      "metadata": {
        "id": "2-_ETz_3T1IO",
        "colab_type": "text"
      },
      "source": [
        "学習と評価を行う。"
      ]
    },
    {
      "cell_type": "code",
      "metadata": {
        "id": "NOcejaQDIaVq",
        "colab_type": "code",
        "colab": {}
      },
      "source": [
        "model.fit(x_train, y_train, epochs=5)\n",
        "model.evaluate(x_test, y_test)"
      ],
      "execution_count": 0,
      "outputs": []
    },
    {
      "cell_type": "markdown",
      "metadata": {
        "id": "qaMwxcsHT4UH",
        "colab_type": "text"
      },
      "source": [
        "モデルを保存するためにGoogle Driveのアクセス権を確認する。出力されたURLへアクセスし、認証を行った後に出力されるコードをコピーしダイアログへ入力する。"
      ]
    },
    {
      "cell_type": "code",
      "metadata": {
        "id": "PWa8f-n9__t2",
        "colab_type": "code",
        "colab": {}
      },
      "source": [
        "from google.colab import drive\n",
        "drive.mount('/content/drive')"
      ],
      "execution_count": 0,
      "outputs": []
    },
    {
      "cell_type": "markdown",
      "metadata": {
        "id": "EG7-iMvSUKIU",
        "colab_type": "text"
      },
      "source": [
        "学習したモデルをGoogle Driveへ出力する。"
      ]
    },
    {
      "cell_type": "code",
      "metadata": {
        "id": "2IHiyB0FU7Ro",
        "colab_type": "code",
        "colab": {}
      },
      "source": [
        "model.save(\n",
        "    '/content/drive/My Drive/Colab Notebooks/mymnist.h5')"
      ],
      "execution_count": 0,
      "outputs": []
    },
    {
      "cell_type": "markdown",
      "metadata": {
        "id": "nNjqRoc5UODj",
        "colab_type": "text"
      },
      "source": [
        "出力したモデルを量子化しTensorFlow Liteのモデルへ変換する。"
      ]
    },
    {
      "cell_type": "code",
      "metadata": {
        "id": "hVzSpxvCFj9P",
        "colab_type": "code",
        "colab": {}
      },
      "source": [
        "converter = tf.lite.TFLiteConverter.from_keras_model_file(\n",
        "    '/content/drive/My Drive/Colab Notebooks/mymnist.h5')\n",
        "converter.inference_type = tf.lite.constants.QUANTIZED_UINT8\n",
        "converter.default_ranges_stats = (0, 255)\n",
        "input_arrays = converter.get_input_arrays()\n",
        "converter.quantized_input_stats = {input_arrays[0] : (0., 1.)} \n",
        "tflite_model = converter.convert()"
      ],
      "execution_count": 0,
      "outputs": []
    },
    {
      "cell_type": "markdown",
      "metadata": {
        "id": "O8P-aPY1UqL7",
        "colab_type": "text"
      },
      "source": [
        "TensorFlow LiteのモデルをGoogle Driveへ保存する。"
      ]
    },
    {
      "cell_type": "code",
      "metadata": {
        "id": "1N-VexCAWJS0",
        "colab_type": "code",
        "colab": {}
      },
      "source": [
        "open('/content/drive/My Drive/Colab Notebooks/mymnist.tflite', \n",
        "     \"wb\").write(tflite_model)\n"
      ],
      "execution_count": 0,
      "outputs": []
    },
    {
      "cell_type": "markdown",
      "metadata": {
        "id": "0aQjueJo4spF",
        "colab_type": "text"
      },
      "source": [
        "Edge TPUコンパイラをインストールする。"
      ]
    },
    {
      "cell_type": "code",
      "metadata": {
        "id": "9pN_WjMp40Ce",
        "colab_type": "code",
        "colab": {}
      },
      "source": [
        "!curl https://packages.cloud.google.com/apt/doc/apt-key.gpg \\\n",
        " | sudo apt-key add -\n",
        "!echo \\\n",
        " \"deb https://packages.cloud.google.com/apt coral-edgetpu-stable main\" \\\n",
        " | sudo tee /etc/apt/sources.list.d/coral-edgetpu.list\n",
        "!sudo apt update\n",
        "!sudo apt install edgetpu"
      ],
      "execution_count": 0,
      "outputs": []
    },
    {
      "cell_type": "markdown",
      "metadata": {
        "id": "xSzDhH3c6FOO",
        "colab_type": "text"
      },
      "source": [
        "Edge TPU用に変換をする。"
      ]
    },
    {
      "cell_type": "code",
      "metadata": {
        "id": "AI50YNcT42ra",
        "colab_type": "code",
        "colab": {}
      },
      "source": [
        "!edgetpu_compiler \\\n",
        " \"/content/drive/My Drive/Colab Notebooks/mymnist.tflite\" \\\n",
        " -o \"/content/drive/My Drive/Colab Notebooks/\" \\\n",
        " -m 10"
      ],
      "execution_count": 0,
      "outputs": []
    }
  ]
}